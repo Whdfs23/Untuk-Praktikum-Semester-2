{
  "nbformat": 4,
  "nbformat_minor": 0,
  "metadata": {
    "colab": {
      "provenance": [],
      "authorship_tag": "ABX9TyOhom+PVorrWg7xfpDJtEhb",
      "include_colab_link": true
    },
    "kernelspec": {
      "name": "python3",
      "display_name": "Python 3"
    },
    "language_info": {
      "name": "python"
    }
  },
  "cells": [
    {
      "cell_type": "markdown",
      "metadata": {
        "id": "view-in-github",
        "colab_type": "text"
      },
      "source": [
        "<a href=\"https://colab.research.google.com/github/Whdfs23/Untuk-Praktikum-Semester-2/blob/main/%5B2440506054%5D_Tugas_Strukdat_%5BLinked_List%5D.ipynb\" target=\"_parent\"><img src=\"https://colab.research.google.com/assets/colab-badge.svg\" alt=\"Open In Colab\"/></a>"
      ]
    },
    {
      "cell_type": "code",
      "execution_count": null,
      "metadata": {
        "colab": {
          "base_uri": "https://localhost:8080/"
        },
        "id": "3ZdC8G1NLpfd",
        "outputId": "d1ef2175-928e-405f-abd8-6862531b0a46"
      },
      "outputs": [
        {
          "output_type": "stream",
          "name": "stdout",
          "text": [
            "Masukkan 4 nama satpam:\n",
            "Nama satpam ke-1: Muhammad Andra Firdaus\n",
            "Nama satpam ke-2: Nayla Izza Arzatie\n",
            "Nama satpam ke-3: Ahmad Syauqy Wardani\n",
            "Nama satpam ke-4: Filbert Wibowo\n",
            "\n",
            "Jadwal Piket Satpam:\n",
            "Hari 1: Muhammad Andra Firdaus\n",
            "Hari 2: Nayla Izza Arzatie\n",
            "Hari 3: Ahmad Syauqy Wardani\n",
            "Hari 4: Filbert Wibowo\n",
            "Hari 5: Muhammad Andra Firdaus\n",
            "Hari 6: Nayla Izza Arzatie\n",
            "Hari 7: Ahmad Syauqy Wardani\n",
            "Hari 8: Filbert Wibowo\n",
            "Hari 9: Muhammad Andra Firdaus\n",
            "Hari 10: Nayla Izza Arzatie\n",
            "Hari 11: Ahmad Syauqy Wardani\n",
            "Hari 12: Filbert Wibowo\n",
            "Hari 13: Muhammad Andra Firdaus\n",
            "Hari 14: Nayla Izza Arzatie\n"
          ]
        }
      ],
      "source": [
        "class SatpamNode:\n",
        "    def __init__(self, nama):\n",
        "        self.nama = nama\n",
        "        self.next = None\n",
        "\n",
        "class JadwalPiket:\n",
        "    def __init__(self):\n",
        "        self.head = None\n",
        "        self.current = None\n",
        "\n",
        "    def tambah_satpam(self, nama):\n",
        "        new_node = SatpamNode(nama)\n",
        "        if not self.head:\n",
        "            self.head = new_node\n",
        "            self.head.next = self.head\n",
        "            self.current = self.head\n",
        "        else:\n",
        "            temp = self.head\n",
        "            while temp.next != self.head:\n",
        "                temp = temp.next\n",
        "            temp.next = new_node\n",
        "            new_node.next = self.head\n",
        "\n",
        "    def generate_jadwal(self, hari):\n",
        "        print(\"\\nJadwal Piket Satpam:\")\n",
        "        current = self.head\n",
        "        for i in range(1, hari + 1):\n",
        "            print(f\"Hari {i}: {current.nama}\")\n",
        "            current = current.next\n",
        "\n",
        "# Program Utama\n",
        "jadwal = JadwalPiket()\n",
        "\n",
        "print(\"Masukkan 4 nama satpam:\")\n",
        "for i in range(4):\n",
        "    nama = input(f\"Nama satpam ke-{i+1}: \")\n",
        "    jadwal.tambah_satpam(nama)\n",
        "\n",
        "jadwal.generate_jadwal(14)"
      ]
    }
  ]
}